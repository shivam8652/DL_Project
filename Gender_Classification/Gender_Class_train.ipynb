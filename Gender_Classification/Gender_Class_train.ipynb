{
 "cells": [
  {
   "cell_type": "code",
   "execution_count": 10,
   "id": "8856e991",
   "metadata": {},
   "outputs": [],
   "source": [
    "from tensorflow.keras.preprocessing.image import ImageDataGenerator\n",
    "from tensorflow.keras.optimizers import Adam\n",
    "from tensorflow.keras.preprocessing.image import img_to_array\n",
    "from tensorflow.keras.utils import to_categorical, plot_model\n",
    "from tensorflow.keras.models import Sequential\n",
    "from tensorflow.keras.layers import BatchNormalization, Conv2D, MaxPooling2D, Activation, Flatten, Dropout, Dense\n",
    "from tensorflow.keras import backend as K\n",
    "from sklearn.model_selection import train_test_split\n",
    "import matplotlib.pyplot as plt\n",
    "import numpy as np\n",
    "import random\n",
    "import cv2\n",
    "import os\n",
    "import glob"
   ]
  },
  {
   "cell_type": "code",
   "execution_count": 11,
   "id": "414251b6",
   "metadata": {},
   "outputs": [],
   "source": [
    "# initial parameters\n",
    "epochs = 100\n",
    "lr = 1e-3\n",
    "batch_size = 64\n",
    "img_dims = (96,96,3)"
   ]
  },
  {
   "cell_type": "code",
   "execution_count": 15,
   "id": "f363bd95",
   "metadata": {},
   "outputs": [],
   "source": [
    "data = []\n",
    "labels = []"
   ]
  },
  {
   "cell_type": "code",
   "execution_count": 13,
   "id": "01493bab",
   "metadata": {},
   "outputs": [],
   "source": [
    "# load image files from the dataset\n",
    "image_files = [f for f in glob.glob(r'D:\\Gender-Detection-master\\gender_dataset_face' + \"/**/*\", recursive=True) if not os.path.isdir(f)]\n",
    "random.shuffle(image_files)"
   ]
  },
  {
   "cell_type": "code",
   "execution_count": 16,
   "id": "f71003cd",
   "metadata": {},
   "outputs": [],
   "source": [
    "# converting images to arrays and labelling the categories\n",
    "for img in image_files:\n",
    "\n",
    "    image = cv2.imread(img)\n",
    "    \n",
    "    image = cv2.resize(image, (img_dims[0],img_dims[1]))\n",
    "    image = img_to_array(image)\n",
    "    data.append(image)\n",
    "\n",
    "    label = img.split(os.path.sep)[-2] # C:\\Files\\gender_dataset_face\\woman\\face_1162.jpg\n",
    "    if label == \"woman\":\n",
    "        label = 1\n",
    "    else:\n",
    "        label = 0\n",
    "        \n",
    "    labels.append([label]) # [[1], [0], [0], ...]"
   ]
  },
  {
   "cell_type": "code",
   "execution_count": 17,
   "id": "ad36e961",
   "metadata": {},
   "outputs": [],
   "source": [
    "# pre-processing\n",
    "data = np.array(data, dtype=\"float\") / 255.0\n",
    "labels = np.array(labels)"
   ]
  },
  {
   "cell_type": "code",
   "execution_count": 19,
   "id": "929f9d21",
   "metadata": {},
   "outputs": [],
   "source": [
    "# split dataset for training and validation\n",
    "(trainX, testX, trainY, testY) = train_test_split(data, labels, test_size=0.2,random_state=42)"
   ]
  },
  {
   "cell_type": "code",
   "execution_count": 20,
   "id": "ace3a884",
   "metadata": {},
   "outputs": [],
   "source": [
    "trainY = to_categorical(trainY, num_classes=2) # [[1, 0], [0, 1], [0, 1], ...]\n",
    "testY = to_categorical(testY, num_classes=2)"
   ]
  },
  {
   "cell_type": "code",
   "execution_count": 21,
   "id": "77143e56",
   "metadata": {},
   "outputs": [],
   "source": [
    "# augmenting datset \n",
    "aug = ImageDataGenerator(rotation_range=25, width_shift_range=0.1,\n",
    "                         height_shift_range=0.1, shear_range=0.2, zoom_range=0.2,\n",
    "                         horizontal_flip=True, fill_mode=\"nearest\")"
   ]
  },
  {
   "cell_type": "code",
   "execution_count": 22,
   "id": "6fb8a4d5",
   "metadata": {},
   "outputs": [],
   "source": [
    "# define model\n",
    "def build(width, height, depth, classes):\n",
    "    model = Sequential()\n",
    "    inputShape = (height, width, depth)\n",
    "    chanDim = -1\n",
    "\n",
    "    if K.image_data_format() == \"channels_first\": #Returns a string, either 'channels_first' or 'channels_last'\n",
    "        inputShape = (depth, height, width)\n",
    "        chanDim = 1\n",
    "    \n",
    "    # The axis that should be normalized, after a Conv2D layer with data_format=\"channels_first\", \n",
    "    # set axis=1 in BatchNormalization.\n",
    "\n",
    "    model.add(Conv2D(32, (3,3), padding=\"same\", input_shape=inputShape))\n",
    "    model.add(Activation(\"relu\"))\n",
    "    model.add(BatchNormalization(axis=chanDim))\n",
    "    model.add(MaxPooling2D(pool_size=(3,3)))\n",
    "    model.add(Dropout(0.25))\n",
    "\n",
    "    model.add(Conv2D(64, (3,3), padding=\"same\"))\n",
    "    model.add(Activation(\"relu\"))\n",
    "    model.add(BatchNormalization(axis=chanDim))\n",
    "\n",
    "    model.add(Conv2D(64, (3,3), padding=\"same\"))\n",
    "    model.add(Activation(\"relu\"))\n",
    "    model.add(BatchNormalization(axis=chanDim))\n",
    "    model.add(MaxPooling2D(pool_size=(2,2)))\n",
    "    model.add(Dropout(0.25))\n",
    "\n",
    "    model.add(Conv2D(128, (3,3), padding=\"same\"))\n",
    "    model.add(Activation(\"relu\"))\n",
    "    model.add(BatchNormalization(axis=chanDim))\n",
    "\n",
    "    model.add(Conv2D(128, (3,3), padding=\"same\"))\n",
    "    model.add(Activation(\"relu\"))\n",
    "    model.add(BatchNormalization(axis=chanDim))\n",
    "    model.add(MaxPooling2D(pool_size=(2,2)))\n",
    "    model.add(Dropout(0.25))\n",
    "\n",
    "    model.add(Flatten())\n",
    "    model.add(Dense(1024))\n",
    "    model.add(Activation(\"relu\"))\n",
    "    model.add(BatchNormalization())\n",
    "    model.add(Dropout(0.5))\n",
    "\n",
    "    model.add(Dense(classes))\n",
    "    model.add(Activation(\"sigmoid\"))\n",
    "\n",
    "    return model"
   ]
  },
  {
   "cell_type": "code",
   "execution_count": 23,
   "id": "30f948cb",
   "metadata": {},
   "outputs": [],
   "source": [
    "# build model\n",
    "model = build(width=img_dims[0], height=img_dims[1], depth=img_dims[2],\n",
    "                            classes=2)"
   ]
  },
  {
   "cell_type": "code",
   "execution_count": 24,
   "id": "7701e1c8",
   "metadata": {},
   "outputs": [
    {
     "name": "stderr",
     "output_type": "stream",
     "text": [
      "C:\\Users\\raish\\AppData\\Roaming\\Python\\Python39\\site-packages\\keras\\optimizers\\optimizer_v2\\adam.py:110: UserWarning: The `lr` argument is deprecated, use `learning_rate` instead.\n",
      "  super(Adam, self).__init__(name, **kwargs)\n"
     ]
    }
   ],
   "source": [
    "# compile the model\n",
    "opt = Adam(lr=lr, decay=lr/epochs)\n",
    "model.compile(loss=\"binary_crossentropy\", optimizer=opt, metrics=[\"accuracy\"])"
   ]
  },
  {
   "cell_type": "code",
   "execution_count": 25,
   "id": "4d61ea8e",
   "metadata": {},
   "outputs": [
    {
     "name": "stderr",
     "output_type": "stream",
     "text": [
      "C:\\Users\\raish\\AppData\\Local\\Temp\\ipykernel_10380\\3811416611.py:2: UserWarning: `Model.fit_generator` is deprecated and will be removed in a future version. Please use `Model.fit`, which supports generators.\n",
      "  H = model.fit_generator(aug.flow(trainX, trainY, batch_size=batch_size),\n"
     ]
    },
    {
     "name": "stdout",
     "output_type": "stream",
     "text": [
      "Epoch 1/100\n",
      "28/28 [==============================] - 22s 635ms/step - loss: 0.6968 - accuracy: 0.7501 - val_loss: 0.6851 - val_accuracy: 0.5087\n",
      "Epoch 2/100\n",
      "28/28 [==============================] - 18s 629ms/step - loss: 0.4592 - accuracy: 0.8119 - val_loss: 0.8285 - val_accuracy: 0.5087\n",
      "Epoch 3/100\n",
      "28/28 [==============================] - 20s 698ms/step - loss: 0.3828 - accuracy: 0.8540 - val_loss: 0.9047 - val_accuracy: 0.5087\n",
      "Epoch 4/100\n",
      "28/28 [==============================] - 20s 712ms/step - loss: 0.3992 - accuracy: 0.8445 - val_loss: 1.0151 - val_accuracy: 0.5087\n",
      "Epoch 5/100\n",
      "28/28 [==============================] - 21s 734ms/step - loss: 0.3498 - accuracy: 0.8619 - val_loss: 0.6480 - val_accuracy: 0.5108\n",
      "Epoch 6/100\n",
      "28/28 [==============================] - 19s 693ms/step - loss: 0.2972 - accuracy: 0.8860 - val_loss: 0.6521 - val_accuracy: 0.6320\n",
      "Epoch 7/100\n",
      "28/28 [==============================] - 20s 695ms/step - loss: 0.2591 - accuracy: 0.9017 - val_loss: 1.0685 - val_accuracy: 0.5087\n",
      "Epoch 8/100\n",
      "28/28 [==============================] - 19s 693ms/step - loss: 0.2434 - accuracy: 0.9051 - val_loss: 0.5906 - val_accuracy: 0.6667\n",
      "Epoch 9/100\n",
      "28/28 [==============================] - 20s 695ms/step - loss: 0.2449 - accuracy: 0.9046 - val_loss: 0.4305 - val_accuracy: 0.8398\n",
      "Epoch 10/100\n",
      "28/28 [==============================] - 19s 695ms/step - loss: 0.2240 - accuracy: 0.9180 - val_loss: 0.4342 - val_accuracy: 0.7706\n",
      "Epoch 11/100\n",
      "28/28 [==============================] - 19s 693ms/step - loss: 0.1938 - accuracy: 0.9253 - val_loss: 0.9588 - val_accuracy: 0.6190\n",
      "Epoch 12/100\n",
      "28/28 [==============================] - 19s 690ms/step - loss: 0.1913 - accuracy: 0.9298 - val_loss: 0.7898 - val_accuracy: 0.6948\n",
      "Epoch 13/100\n",
      "28/28 [==============================] - 19s 694ms/step - loss: 0.1938 - accuracy: 0.9276 - val_loss: 0.3637 - val_accuracy: 0.8680\n",
      "Epoch 14/100\n",
      "28/28 [==============================] - 20s 699ms/step - loss: 0.1652 - accuracy: 0.9343 - val_loss: 0.2693 - val_accuracy: 0.8939\n",
      "Epoch 15/100\n",
      "28/28 [==============================] - 19s 690ms/step - loss: 0.1647 - accuracy: 0.9394 - val_loss: 0.6206 - val_accuracy: 0.8095\n",
      "Epoch 16/100\n",
      "28/28 [==============================] - 19s 691ms/step - loss: 0.1753 - accuracy: 0.9321 - val_loss: 1.0104 - val_accuracy: 0.7251\n",
      "Epoch 17/100\n",
      "28/28 [==============================] - 20s 705ms/step - loss: 0.1502 - accuracy: 0.9483 - val_loss: 0.1633 - val_accuracy: 0.9307\n",
      "Epoch 18/100\n",
      "28/28 [==============================] - 20s 709ms/step - loss: 0.1238 - accuracy: 0.9562 - val_loss: 0.3580 - val_accuracy: 0.8680\n",
      "Epoch 19/100\n",
      "28/28 [==============================] - 19s 692ms/step - loss: 0.1732 - accuracy: 0.9416 - val_loss: 0.2149 - val_accuracy: 0.9156\n",
      "Epoch 20/100\n",
      "28/28 [==============================] - 19s 693ms/step - loss: 0.1252 - accuracy: 0.9512 - val_loss: 0.3356 - val_accuracy: 0.8874\n",
      "Epoch 21/100\n",
      "28/28 [==============================] - 20s 721ms/step - loss: 0.1347 - accuracy: 0.9478 - val_loss: 0.4328 - val_accuracy: 0.8463\n",
      "Epoch 22/100\n",
      "28/28 [==============================] - 20s 730ms/step - loss: 0.1380 - accuracy: 0.9478 - val_loss: 0.2833 - val_accuracy: 0.9004\n",
      "Epoch 23/100\n",
      "28/28 [==============================] - 20s 695ms/step - loss: 0.1233 - accuracy: 0.9483 - val_loss: 0.2011 - val_accuracy: 0.9416\n",
      "Epoch 24/100\n",
      "28/28 [==============================] - 20s 704ms/step - loss: 0.0981 - accuracy: 0.9624 - val_loss: 0.1209 - val_accuracy: 0.9654\n",
      "Epoch 25/100\n",
      "28/28 [==============================] - 20s 714ms/step - loss: 0.1095 - accuracy: 0.9657 - val_loss: 0.1876 - val_accuracy: 0.9242\n",
      "Epoch 26/100\n",
      "28/28 [==============================] - 20s 719ms/step - loss: 0.0955 - accuracy: 0.9657 - val_loss: 0.1139 - val_accuracy: 0.9589\n",
      "Epoch 27/100\n",
      "28/28 [==============================] - 21s 750ms/step - loss: 0.1041 - accuracy: 0.9551 - val_loss: 0.1308 - val_accuracy: 0.9567\n",
      "Epoch 28/100\n",
      "28/28 [==============================] - 20s 700ms/step - loss: 0.0948 - accuracy: 0.9697 - val_loss: 0.1518 - val_accuracy: 0.9502\n",
      "Epoch 29/100\n",
      "28/28 [==============================] - 20s 713ms/step - loss: 0.0924 - accuracy: 0.9624 - val_loss: 0.4821 - val_accuracy: 0.8939\n",
      "Epoch 30/100\n",
      "28/28 [==============================] - 20s 705ms/step - loss: 0.0936 - accuracy: 0.9629 - val_loss: 0.1424 - val_accuracy: 0.9351\n",
      "Epoch 31/100\n",
      "28/28 [==============================] - 20s 702ms/step - loss: 0.0926 - accuracy: 0.9629 - val_loss: 0.4277 - val_accuracy: 0.8593\n",
      "Epoch 32/100\n",
      "28/28 [==============================] - 20s 708ms/step - loss: 0.0756 - accuracy: 0.9719 - val_loss: 0.1047 - val_accuracy: 0.9697\n",
      "Epoch 33/100\n",
      "28/28 [==============================] - 20s 697ms/step - loss: 0.0879 - accuracy: 0.9669 - val_loss: 0.9185 - val_accuracy: 0.8268\n",
      "Epoch 34/100\n",
      "28/28 [==============================] - 20s 713ms/step - loss: 0.0956 - accuracy: 0.9669 - val_loss: 0.1244 - val_accuracy: 0.9589\n",
      "Epoch 35/100\n",
      "28/28 [==============================] - 20s 711ms/step - loss: 0.0936 - accuracy: 0.9629 - val_loss: 0.1501 - val_accuracy: 0.9567\n",
      "Epoch 36/100\n",
      "28/28 [==============================] - 20s 698ms/step - loss: 0.0989 - accuracy: 0.9613 - val_loss: 0.5931 - val_accuracy: 0.8550\n",
      "Epoch 37/100\n",
      "28/28 [==============================] - 20s 701ms/step - loss: 0.0880 - accuracy: 0.9646 - val_loss: 0.1712 - val_accuracy: 0.9459\n",
      "Epoch 38/100\n",
      "28/28 [==============================] - 20s 713ms/step - loss: 0.0808 - accuracy: 0.9680 - val_loss: 0.6631 - val_accuracy: 0.8333\n",
      "Epoch 39/100\n",
      "28/28 [==============================] - 20s 702ms/step - loss: 0.0874 - accuracy: 0.9714 - val_loss: 0.4454 - val_accuracy: 0.8745\n",
      "Epoch 40/100\n",
      "28/28 [==============================] - 20s 718ms/step - loss: 0.0754 - accuracy: 0.9753 - val_loss: 0.1235 - val_accuracy: 0.9675\n",
      "Epoch 41/100\n",
      "28/28 [==============================] - 20s 705ms/step - loss: 0.0802 - accuracy: 0.9730 - val_loss: 1.3600 - val_accuracy: 0.7273\n",
      "Epoch 42/100\n",
      "28/28 [==============================] - 20s 698ms/step - loss: 0.0721 - accuracy: 0.9775 - val_loss: 0.7326 - val_accuracy: 0.8442\n",
      "Epoch 43/100\n",
      "28/28 [==============================] - 20s 699ms/step - loss: 0.0829 - accuracy: 0.9652 - val_loss: 0.3418 - val_accuracy: 0.9156\n",
      "Epoch 44/100\n",
      "28/28 [==============================] - 20s 714ms/step - loss: 0.0786 - accuracy: 0.9682 - val_loss: 0.3182 - val_accuracy: 0.9156\n",
      "Epoch 45/100\n",
      "28/28 [==============================] - 20s 706ms/step - loss: 0.0704 - accuracy: 0.9702 - val_loss: 0.1702 - val_accuracy: 0.9437\n",
      "Epoch 46/100\n",
      "28/28 [==============================] - 20s 702ms/step - loss: 0.0875 - accuracy: 0.9691 - val_loss: 0.3705 - val_accuracy: 0.8961\n",
      "Epoch 47/100\n",
      "28/28 [==============================] - 20s 702ms/step - loss: 0.1052 - accuracy: 0.9607 - val_loss: 0.2507 - val_accuracy: 0.9286\n",
      "Epoch 48/100\n",
      "28/28 [==============================] - 20s 701ms/step - loss: 0.0818 - accuracy: 0.9697 - val_loss: 0.3184 - val_accuracy: 0.9134\n",
      "Epoch 49/100\n",
      "28/28 [==============================] - 20s 695ms/step - loss: 0.0751 - accuracy: 0.9770 - val_loss: 0.1286 - val_accuracy: 0.9567\n",
      "Epoch 50/100\n",
      "28/28 [==============================] - 20s 697ms/step - loss: 0.0715 - accuracy: 0.9714 - val_loss: 0.2101 - val_accuracy: 0.9286\n",
      "Epoch 51/100\n",
      "28/28 [==============================] - 20s 699ms/step - loss: 0.0639 - accuracy: 0.9770 - val_loss: 0.1422 - val_accuracy: 0.9545\n",
      "Epoch 52/100\n",
      "28/28 [==============================] - 20s 696ms/step - loss: 0.0677 - accuracy: 0.9764 - val_loss: 0.4792 - val_accuracy: 0.8853\n",
      "Epoch 53/100\n",
      "28/28 [==============================] - 20s 696ms/step - loss: 0.0544 - accuracy: 0.9730 - val_loss: 0.1328 - val_accuracy: 0.9545\n",
      "Epoch 54/100\n",
      "28/28 [==============================] - 20s 697ms/step - loss: 0.0569 - accuracy: 0.9803 - val_loss: 0.1968 - val_accuracy: 0.9459\n",
      "Epoch 55/100\n",
      "28/28 [==============================] - 20s 698ms/step - loss: 0.0618 - accuracy: 0.9775 - val_loss: 0.1811 - val_accuracy: 0.9502\n",
      "Epoch 56/100\n",
      "28/28 [==============================] - 20s 698ms/step - loss: 0.0552 - accuracy: 0.9798 - val_loss: 0.3361 - val_accuracy: 0.9113\n",
      "Epoch 57/100\n",
      "28/28 [==============================] - 20s 699ms/step - loss: 0.0521 - accuracy: 0.9809 - val_loss: 0.1865 - val_accuracy: 0.9329\n",
      "Epoch 58/100\n",
      "28/28 [==============================] - 20s 707ms/step - loss: 0.0599 - accuracy: 0.9787 - val_loss: 0.1480 - val_accuracy: 0.9610\n",
      "Epoch 59/100\n",
      "28/28 [==============================] - 20s 699ms/step - loss: 0.0526 - accuracy: 0.9770 - val_loss: 0.1382 - val_accuracy: 0.9610\n",
      "Epoch 60/100\n",
      "28/28 [==============================] - 20s 693ms/step - loss: 0.0567 - accuracy: 0.9809 - val_loss: 0.6642 - val_accuracy: 0.8939\n",
      "Epoch 61/100\n",
      "28/28 [==============================] - 20s 699ms/step - loss: 0.0788 - accuracy: 0.9747 - val_loss: 0.1172 - val_accuracy: 0.9524\n",
      "Epoch 62/100\n",
      "28/28 [==============================] - 19s 695ms/step - loss: 0.0695 - accuracy: 0.9736 - val_loss: 2.0698 - val_accuracy: 0.6342\n",
      "Epoch 63/100\n",
      "28/28 [==============================] - 20s 702ms/step - loss: 0.1123 - accuracy: 0.9506 - val_loss: 0.2003 - val_accuracy: 0.9307\n",
      "Epoch 64/100\n",
      "28/28 [==============================] - 20s 697ms/step - loss: 0.0696 - accuracy: 0.9719 - val_loss: 0.1607 - val_accuracy: 0.9610\n",
      "Epoch 65/100\n",
      "28/28 [==============================] - 20s 696ms/step - loss: 0.0614 - accuracy: 0.9730 - val_loss: 0.1167 - val_accuracy: 0.9675\n",
      "Epoch 66/100\n",
      "28/28 [==============================] - 20s 728ms/step - loss: 0.0649 - accuracy: 0.9792 - val_loss: 0.5052 - val_accuracy: 0.8723\n",
      "Epoch 67/100\n",
      "28/28 [==============================] - 20s 701ms/step - loss: 0.0503 - accuracy: 0.9815 - val_loss: 0.1061 - val_accuracy: 0.9632\n",
      "Epoch 68/100\n",
      "28/28 [==============================] - 20s 697ms/step - loss: 0.0555 - accuracy: 0.9787 - val_loss: 0.1071 - val_accuracy: 0.9654\n",
      "Epoch 69/100\n",
      "28/28 [==============================] - 20s 697ms/step - loss: 0.0471 - accuracy: 0.9826 - val_loss: 0.1383 - val_accuracy: 0.9632\n",
      "Epoch 70/100\n",
      "28/28 [==============================] - 20s 699ms/step - loss: 0.0559 - accuracy: 0.9781 - val_loss: 0.1606 - val_accuracy: 0.9481\n",
      "Epoch 71/100\n",
      "28/28 [==============================] - 20s 704ms/step - loss: 0.0454 - accuracy: 0.9821 - val_loss: 0.1808 - val_accuracy: 0.9567\n",
      "Epoch 72/100\n",
      "28/28 [==============================] - 20s 695ms/step - loss: 0.0460 - accuracy: 0.9803 - val_loss: 0.3217 - val_accuracy: 0.8961\n",
      "Epoch 73/100\n",
      "28/28 [==============================] - 20s 695ms/step - loss: 0.0554 - accuracy: 0.9809 - val_loss: 0.2228 - val_accuracy: 0.9307\n",
      "Epoch 74/100\n",
      "28/28 [==============================] - 20s 702ms/step - loss: 0.0483 - accuracy: 0.9809 - val_loss: 0.2166 - val_accuracy: 0.9372\n",
      "Epoch 75/100\n",
      "28/28 [==============================] - 20s 698ms/step - loss: 0.0643 - accuracy: 0.9775 - val_loss: 0.1588 - val_accuracy: 0.9481\n",
      "Epoch 76/100\n",
      "28/28 [==============================] - 20s 697ms/step - loss: 0.0408 - accuracy: 0.9854 - val_loss: 0.1970 - val_accuracy: 0.9481\n",
      "Epoch 77/100\n",
      "28/28 [==============================] - 20s 705ms/step - loss: 0.0329 - accuracy: 0.9866 - val_loss: 0.1422 - val_accuracy: 0.9589\n",
      "Epoch 78/100\n",
      "28/28 [==============================] - 20s 699ms/step - loss: 0.0483 - accuracy: 0.9848 - val_loss: 0.1877 - val_accuracy: 0.9481\n",
      "Epoch 79/100\n",
      "28/28 [==============================] - 20s 698ms/step - loss: 0.0398 - accuracy: 0.9837 - val_loss: 0.3494 - val_accuracy: 0.9264\n",
      "Epoch 80/100\n",
      "28/28 [==============================] - 20s 701ms/step - loss: 0.0454 - accuracy: 0.9815 - val_loss: 0.1861 - val_accuracy: 0.9545\n",
      "Epoch 81/100\n",
      "28/28 [==============================] - 20s 700ms/step - loss: 0.0443 - accuracy: 0.9815 - val_loss: 0.1683 - val_accuracy: 0.9481\n",
      "Epoch 82/100\n",
      "28/28 [==============================] - 20s 698ms/step - loss: 0.0507 - accuracy: 0.9792 - val_loss: 0.1281 - val_accuracy: 0.9654\n",
      "Epoch 83/100\n",
      "28/28 [==============================] - 20s 698ms/step - loss: 0.0342 - accuracy: 0.9888 - val_loss: 0.1919 - val_accuracy: 0.9589\n",
      "Epoch 84/100\n",
      "28/28 [==============================] - 20s 701ms/step - loss: 0.0345 - accuracy: 0.9871 - val_loss: 0.4343 - val_accuracy: 0.8983\n",
      "Epoch 85/100\n",
      "28/28 [==============================] - 20s 695ms/step - loss: 0.0454 - accuracy: 0.9826 - val_loss: 0.1782 - val_accuracy: 0.9502\n",
      "Epoch 86/100\n",
      "28/28 [==============================] - 20s 699ms/step - loss: 0.0466 - accuracy: 0.9820 - val_loss: 0.1278 - val_accuracy: 0.9697\n",
      "Epoch 87/100\n",
      "28/28 [==============================] - 20s 702ms/step - loss: 0.0495 - accuracy: 0.9826 - val_loss: 0.9892 - val_accuracy: 0.8095\n",
      "Epoch 88/100\n",
      "28/28 [==============================] - 20s 701ms/step - loss: 0.0542 - accuracy: 0.9770 - val_loss: 0.1658 - val_accuracy: 0.9481\n",
      "Epoch 89/100\n",
      "28/28 [==============================] - 20s 697ms/step - loss: 0.0448 - accuracy: 0.9820 - val_loss: 0.0780 - val_accuracy: 0.9762\n",
      "Epoch 90/100\n",
      "28/28 [==============================] - 20s 699ms/step - loss: 0.0311 - accuracy: 0.9854 - val_loss: 0.1289 - val_accuracy: 0.9654\n",
      "Epoch 91/100\n",
      "28/28 [==============================] - 20s 700ms/step - loss: 0.0359 - accuracy: 0.9854 - val_loss: 0.1751 - val_accuracy: 0.9545\n",
      "Epoch 92/100\n",
      "28/28 [==============================] - 20s 697ms/step - loss: 0.0498 - accuracy: 0.9803 - val_loss: 0.1292 - val_accuracy: 0.9632\n",
      "Epoch 93/100\n",
      "28/28 [==============================] - 20s 701ms/step - loss: 0.0476 - accuracy: 0.9815 - val_loss: 0.2689 - val_accuracy: 0.9286\n",
      "Epoch 94/100\n",
      "28/28 [==============================] - 20s 711ms/step - loss: 0.0494 - accuracy: 0.9837 - val_loss: 0.2579 - val_accuracy: 0.9394\n",
      "Epoch 95/100\n",
      "28/28 [==============================] - 20s 695ms/step - loss: 0.0359 - accuracy: 0.9871 - val_loss: 0.0950 - val_accuracy: 0.9632\n",
      "Epoch 96/100\n",
      "28/28 [==============================] - 20s 701ms/step - loss: 0.0259 - accuracy: 0.9882 - val_loss: 0.1238 - val_accuracy: 0.9610\n",
      "Epoch 97/100\n",
      "28/28 [==============================] - 20s 700ms/step - loss: 0.0292 - accuracy: 0.9916 - val_loss: 0.1324 - val_accuracy: 0.9589\n",
      "Epoch 98/100\n",
      "28/28 [==============================] - 20s 698ms/step - loss: 0.0409 - accuracy: 0.9815 - val_loss: 0.1749 - val_accuracy: 0.9502\n",
      "Epoch 99/100\n",
      "28/28 [==============================] - 20s 696ms/step - loss: 0.0337 - accuracy: 0.9882 - val_loss: 0.2128 - val_accuracy: 0.9459\n",
      "Epoch 100/100\n",
      "28/28 [==============================] - 20s 695ms/step - loss: 0.0305 - accuracy: 0.9893 - val_loss: 0.3826 - val_accuracy: 0.9199\n"
     ]
    }
   ],
   "source": [
    "# train the model\n",
    "H = model.fit_generator(aug.flow(trainX, trainY, batch_size=batch_size),\n",
    "                        validation_data=(testX,testY),\n",
    "                        steps_per_epoch=len(trainX) // batch_size,\n",
    "                        epochs=epochs, verbose=1)"
   ]
  },
  {
   "cell_type": "code",
   "execution_count": 26,
   "id": "58814267",
   "metadata": {},
   "outputs": [
    {
     "name": "stderr",
     "output_type": "stream",
     "text": [
      "WARNING:absl:Found untraced functions such as _jit_compiled_convolution_op, _jit_compiled_convolution_op, _jit_compiled_convolution_op, _jit_compiled_convolution_op, _jit_compiled_convolution_op while saving (showing 5 of 5). These functions will not be directly callable after loading.\n"
     ]
    },
    {
     "name": "stdout",
     "output_type": "stream",
     "text": [
      "INFO:tensorflow:Assets written to: gender_detection.model\\assets\n"
     ]
    },
    {
     "name": "stderr",
     "output_type": "stream",
     "text": [
      "INFO:tensorflow:Assets written to: gender_detection.model\\assets\n"
     ]
    }
   ],
   "source": [
    "# save the model to disk\n",
    "model.save('gender_detection.model')"
   ]
  },
  {
   "cell_type": "code",
   "execution_count": 29,
   "id": "8b570127",
   "metadata": {},
   "outputs": [
    {
     "data": {
      "text/plain": [
       "<matplotlib.legend.Legend at 0x2655cd79250>"
      ]
     },
     "execution_count": 29,
     "metadata": {},
     "output_type": "execute_result"
    },
    {
     "data": {
      "image/png": "[encoded data removed]",
      "text/plain": [
       "<Figure size 432x288 with 1 Axes>"
      ]
     },
     "metadata": {},
     "output_type": "display_data"
    }
   ],
   "source": [
    "# plot training/validation loss/accuracy\n",
    "plt.style.use(\"ggplot\")\n",
    "plt.figure()\n",
    "N = epochs\n",
    "plt.plot(np.arange(0,N), H.history[\"loss\"], label=\"train_loss\")\n",
    "plt.plot(np.arange(0,N), H.history[\"val_loss\"], label=\"val_loss\")\n",
    "plt.plot(np.arange(0,N), H.history[\"accuracy\"], label=\"train_acc\")\n",
    "plt.plot(np.arange(0,N), H.history[\"val_accuracy\"], label=\"val_acc\")\n",
    "\n",
    "plt.title(\"Training Loss and Accuracy\")\n",
    "plt.xlabel(\"Epoch #\")\n",
    "plt.ylabel(\"Loss/Accuracy\")\n",
    "plt.legend(loc=\"upper right\")"
   ]
  }
 ],
 "metadata": {
  "kernelspec": {
   "display_name": "Python 3 (ipykernel)",
   "language": "python",
   "name": "python3"
  },
  "language_info": {
   "codemirror_mode": {
    "name": "ipython",
    "version": 3
   },
   "file_extension": ".py",
   "mimetype": "text/x-python",
   "name": "python",
   "nbconvert_exporter": "python",
   "pygments_lexer": "ipython3",
   "version": "3.9.12"
  }
 },
 "nbformat": 4,
 "nbformat_minor": 5
}
